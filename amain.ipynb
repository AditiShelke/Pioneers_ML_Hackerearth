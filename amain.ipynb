{
 "cells": [
  {
   "cell_type": "code",
   "execution_count": null,
   "metadata": {},
   "outputs": [],
   "source": []
  },
  {
   "cell_type": "code",
   "execution_count": null,
   "metadata": {},
   "outputs": [],
   "source": []
  },
  {
   "attachments": {},
   "cell_type": "markdown",
   "metadata": {},
   "source": [
    "# importing lib"
   ]
  },
  {
   "cell_type": "code",
   "execution_count": 36,
   "metadata": {},
   "outputs": [],
   "source": [
    "import pandas as pd\n",
    "import matplotlib.pyplot as plt\n",
    "import seaborn as sns\n",
    "import numpy as np\n",
    "import pandas as pd\n",
    "import matplotlib.pyplot as plt\n",
    "import seaborn as sns\n",
    "import mpl_toolkits\n",
    "%matplotlib inline"
   ]
  },
  {
   "cell_type": "code",
   "execution_count": 37,
   "metadata": {},
   "outputs": [
    {
     "name": "stdout",
     "output_type": "stream",
     "text": [
      "Requirement already satisfied: klib in /usr/local/python/3.10.4/lib/python3.10/site-packages (1.0.7)\n",
      "Requirement already satisfied: Jinja2<4.0.0,>=3.0.3 in /home/codespace/.local/lib/python3.10/site-packages (from klib) (3.1.2)\n",
      "Requirement already satisfied: matplotlib<4.0.0,>=3.0.3 in /usr/local/python/3.10.4/lib/python3.10/site-packages (from klib) (3.7.0)\n",
      "Requirement already satisfied: numpy<2.0.0,>=1.16.3 in /usr/local/python/3.10.4/lib/python3.10/site-packages (from klib) (1.23.5)\n",
      "Requirement already satisfied: pandas<2.0.0,>=1.2.0 in /usr/local/python/3.10.4/lib/python3.10/site-packages (from klib) (1.5.3)\n",
      "Requirement already satisfied: scipy<2.0.0,>=1.1.0 in /home/codespace/.local/lib/python3.10/site-packages (from klib) (1.10.1)\n",
      "Requirement already satisfied: seaborn<0.13.0,>=0.11.2 in /home/codespace/.local/lib/python3.10/site-packages (from klib) (0.12.2)\n",
      "Requirement already satisfied: MarkupSafe>=2.0 in /home/codespace/.local/lib/python3.10/site-packages (from Jinja2<4.0.0,>=3.0.3->klib) (2.1.2)\n",
      "Requirement already satisfied: contourpy>=1.0.1 in /home/codespace/.local/lib/python3.10/site-packages (from matplotlib<4.0.0,>=3.0.3->klib) (1.0.7)\n",
      "Requirement already satisfied: cycler>=0.10 in /home/codespace/.local/lib/python3.10/site-packages (from matplotlib<4.0.0,>=3.0.3->klib) (0.11.0)\n",
      "Requirement already satisfied: fonttools>=4.22.0 in /home/codespace/.local/lib/python3.10/site-packages (from matplotlib<4.0.0,>=3.0.3->klib) (4.39.3)\n",
      "Requirement already satisfied: kiwisolver>=1.0.1 in /home/codespace/.local/lib/python3.10/site-packages (from matplotlib<4.0.0,>=3.0.3->klib) (1.4.4)\n",
      "Requirement already satisfied: packaging>=20.0 in /home/codespace/.local/lib/python3.10/site-packages (from matplotlib<4.0.0,>=3.0.3->klib) (23.1)\n",
      "Requirement already satisfied: pillow>=6.2.0 in /home/codespace/.local/lib/python3.10/site-packages (from matplotlib<4.0.0,>=3.0.3->klib) (9.5.0)\n",
      "Requirement already satisfied: pyparsing>=2.3.1 in /home/codespace/.local/lib/python3.10/site-packages (from matplotlib<4.0.0,>=3.0.3->klib) (3.0.9)\n",
      "Requirement already satisfied: python-dateutil>=2.7 in /home/codespace/.local/lib/python3.10/site-packages (from matplotlib<4.0.0,>=3.0.3->klib) (2.8.2)\n",
      "Requirement already satisfied: pytz>=2020.1 in /home/codespace/.local/lib/python3.10/site-packages (from pandas<2.0.0,>=1.2.0->klib) (2023.3)\n",
      "Requirement already satisfied: six>=1.5 in /home/codespace/.local/lib/python3.10/site-packages (from python-dateutil>=2.7->matplotlib<4.0.0,>=3.0.3->klib) (1.16.0)\n",
      "Note: you may need to restart the kernel to use updated packages.\n"
     ]
    }
   ],
   "source": [
    "%pip install klib\n"
   ]
  },
  {
   "cell_type": "code",
   "execution_count": 38,
   "metadata": {},
   "outputs": [
    {
     "name": "stdout",
     "output_type": "stream",
     "text": [
      "Requirement already satisfied: nltk in /usr/local/python/3.10.4/lib/python3.10/site-packages (3.8.1)\n",
      "Requirement already satisfied: click in /usr/local/python/3.10.4/lib/python3.10/site-packages (from nltk) (8.1.3)\n",
      "Requirement already satisfied: joblib in /home/codespace/.local/lib/python3.10/site-packages (from nltk) (1.2.0)\n",
      "Requirement already satisfied: regex>=2021.8.3 in /usr/local/python/3.10.4/lib/python3.10/site-packages (from nltk) (2023.3.23)\n",
      "Requirement already satisfied: tqdm in /usr/local/python/3.10.4/lib/python3.10/site-packages (from nltk) (4.64.0)\n",
      "Note: you may need to restart the kernel to use updated packages.\n"
     ]
    }
   ],
   "source": [
    "%pip install nltk"
   ]
  },
  {
   "cell_type": "code",
   "execution_count": 39,
   "metadata": {},
   "outputs": [
    {
     "name": "stderr",
     "output_type": "stream",
     "text": [
      "[nltk_data] Downloading package stopwords to\n",
      "[nltk_data]     /home/codespace/nltk_data...\n",
      "[nltk_data]   Package stopwords is already up-to-date!\n",
      "[nltk_data] Downloading package punkt to /home/codespace/nltk_data...\n",
      "[nltk_data]   Package punkt is already up-to-date!\n",
      "[nltk_data] Downloading package wordnet to\n",
      "[nltk_data]     /home/codespace/nltk_data...\n",
      "[nltk_data]   Package wordnet is already up-to-date!\n"
     ]
    },
    {
     "data": {
      "text/plain": [
       "True"
      ]
     },
     "execution_count": 39,
     "metadata": {},
     "output_type": "execute_result"
    }
   ],
   "source": [
    "import nltk\n",
    "nltk.download('stopwords')\n",
    "nltk.download('punkt')\n",
    "nltk.download('wordnet')\n"
   ]
  },
  {
   "cell_type": "code",
   "execution_count": 40,
   "metadata": {},
   "outputs": [
    {
     "data": {
      "text/html": [
       "<div>\n",
       "<style scoped>\n",
       "    .dataframe tbody tr th:only-of-type {\n",
       "        vertical-align: middle;\n",
       "    }\n",
       "\n",
       "    .dataframe tbody tr th {\n",
       "        vertical-align: top;\n",
       "    }\n",
       "\n",
       "    .dataframe thead th {\n",
       "        text-align: right;\n",
       "    }\n",
       "</style>\n",
       "<table border=\"1\" class=\"dataframe\">\n",
       "  <thead>\n",
       "    <tr style=\"text-align: right;\">\n",
       "      <th></th>\n",
       "      <th>PRODUCT_ID</th>\n",
       "      <th>TITLE</th>\n",
       "      <th>BULLET_POINTS</th>\n",
       "      <th>DESCRIPTION</th>\n",
       "      <th>PRODUCT_TYPE_ID</th>\n",
       "      <th>PRODUCT_LENGTH</th>\n",
       "    </tr>\n",
       "  </thead>\n",
       "  <tbody>\n",
       "    <tr>\n",
       "      <th>0</th>\n",
       "      <td>1925202</td>\n",
       "      <td>ArtzFolio Tulip Flowers Blackout Curtain for D...</td>\n",
       "      <td>[LUXURIOUS &amp; APPEALING: Beautiful custom-made ...</td>\n",
       "      <td>NaN</td>\n",
       "      <td>1650</td>\n",
       "      <td>2125.980000</td>\n",
       "    </tr>\n",
       "    <tr>\n",
       "      <th>1</th>\n",
       "      <td>2673191</td>\n",
       "      <td>Marks &amp; Spencer Girls' Pyjama Sets T86_2561C_N...</td>\n",
       "      <td>[Harry Potter Hedwig Pyjamas (6-16 Yrs),100% c...</td>\n",
       "      <td>NaN</td>\n",
       "      <td>2755</td>\n",
       "      <td>393.700000</td>\n",
       "    </tr>\n",
       "    <tr>\n",
       "      <th>2</th>\n",
       "      <td>2765088</td>\n",
       "      <td>PRIKNIK Horn Red Electric Air Horn Compressor ...</td>\n",
       "      <td>[Loud Dual Tone Trumpet Horn, Compatible With ...</td>\n",
       "      <td>Specifications: Color: Red, Material: Aluminiu...</td>\n",
       "      <td>7537</td>\n",
       "      <td>748.031495</td>\n",
       "    </tr>\n",
       "    <tr>\n",
       "      <th>3</th>\n",
       "      <td>1594019</td>\n",
       "      <td>ALISHAH Women's Cotton Ankle Length Leggings C...</td>\n",
       "      <td>[Made By 95%cotton and 5% Lycra which gives yo...</td>\n",
       "      <td>AISHAH Women's Lycra Cotton Ankel Leggings. Br...</td>\n",
       "      <td>2996</td>\n",
       "      <td>787.401574</td>\n",
       "    </tr>\n",
       "    <tr>\n",
       "      <th>4</th>\n",
       "      <td>283658</td>\n",
       "      <td>The United Empire Loyalists: A Chronicle of th...</td>\n",
       "      <td>NaN</td>\n",
       "      <td>NaN</td>\n",
       "      <td>6112</td>\n",
       "      <td>598.424000</td>\n",
       "    </tr>\n",
       "  </tbody>\n",
       "</table>\n",
       "</div>"
      ],
      "text/plain": [
       "   PRODUCT_ID                                              TITLE  \\\n",
       "0     1925202  ArtzFolio Tulip Flowers Blackout Curtain for D...   \n",
       "1     2673191  Marks & Spencer Girls' Pyjama Sets T86_2561C_N...   \n",
       "2     2765088  PRIKNIK Horn Red Electric Air Horn Compressor ...   \n",
       "3     1594019  ALISHAH Women's Cotton Ankle Length Leggings C...   \n",
       "4      283658  The United Empire Loyalists: A Chronicle of th...   \n",
       "\n",
       "                                       BULLET_POINTS  \\\n",
       "0  [LUXURIOUS & APPEALING: Beautiful custom-made ...   \n",
       "1  [Harry Potter Hedwig Pyjamas (6-16 Yrs),100% c...   \n",
       "2  [Loud Dual Tone Trumpet Horn, Compatible With ...   \n",
       "3  [Made By 95%cotton and 5% Lycra which gives yo...   \n",
       "4                                                NaN   \n",
       "\n",
       "                                         DESCRIPTION  PRODUCT_TYPE_ID  \\\n",
       "0                                                NaN             1650   \n",
       "1                                                NaN             2755   \n",
       "2  Specifications: Color: Red, Material: Aluminiu...             7537   \n",
       "3  AISHAH Women's Lycra Cotton Ankel Leggings. Br...             2996   \n",
       "4                                                NaN             6112   \n",
       "\n",
       "   PRODUCT_LENGTH  \n",
       "0     2125.980000  \n",
       "1      393.700000  \n",
       "2      748.031495  \n",
       "3      787.401574  \n",
       "4      598.424000  "
      ]
     },
     "execution_count": 40,
     "metadata": {},
     "output_type": "execute_result"
    }
   ],
   "source": [
    "train_data = pd.read_csv('/workspaces/codespaces-jupyter/data/train.csv', nrows=10000)\n",
    "test_data = pd.read_csv('/workspaces/codespaces-jupyter/data/test.csv', nrows=10000)\n",
    "train_data.head()"
   ]
  },
  {
   "cell_type": "code",
   "execution_count": 41,
   "metadata": {},
   "outputs": [
    {
     "data": {
      "text/html": [
       "<div>\n",
       "<style scoped>\n",
       "    .dataframe tbody tr th:only-of-type {\n",
       "        vertical-align: middle;\n",
       "    }\n",
       "\n",
       "    .dataframe tbody tr th {\n",
       "        vertical-align: top;\n",
       "    }\n",
       "\n",
       "    .dataframe thead th {\n",
       "        text-align: right;\n",
       "    }\n",
       "</style>\n",
       "<table border=\"1\" class=\"dataframe\">\n",
       "  <thead>\n",
       "    <tr style=\"text-align: right;\">\n",
       "      <th></th>\n",
       "      <th>PRODUCT_ID</th>\n",
       "      <th>TITLE</th>\n",
       "      <th>BULLET_POINTS</th>\n",
       "      <th>DESCRIPTION</th>\n",
       "      <th>PRODUCT_TYPE_ID</th>\n",
       "    </tr>\n",
       "  </thead>\n",
       "  <tbody>\n",
       "    <tr>\n",
       "      <th>0</th>\n",
       "      <td>604373</td>\n",
       "      <td>Manuel d'Héliogravure Et de Photogravure En Re...</td>\n",
       "      <td>NaN</td>\n",
       "      <td>NaN</td>\n",
       "      <td>6142</td>\n",
       "    </tr>\n",
       "    <tr>\n",
       "      <th>1</th>\n",
       "      <td>1729783</td>\n",
       "      <td>DCGARING Microfiber Throw Blanket Warm Fuzzy P...</td>\n",
       "      <td>[QUALITY GUARANTEED: Luxury cozy plush polyest...</td>\n",
       "      <td>&lt;b&gt;DCGARING Throw Blanket&lt;/b&gt;&lt;br&gt;&lt;br&gt; &lt;b&gt;Size ...</td>\n",
       "      <td>1622</td>\n",
       "    </tr>\n",
       "    <tr>\n",
       "      <th>2</th>\n",
       "      <td>1871949</td>\n",
       "      <td>I-Match Auto Parts Front License Plate Bracket...</td>\n",
       "      <td>[Front License Plate Bracket Made Of Plastic,D...</td>\n",
       "      <td>Replacement for The Following Vehicles:2020 LE...</td>\n",
       "      <td>7540</td>\n",
       "    </tr>\n",
       "    <tr>\n",
       "      <th>3</th>\n",
       "      <td>1107571</td>\n",
       "      <td>PinMart Gold Plated Excellence in Service 1 Ye...</td>\n",
       "      <td>[Available as a single item or bulk packed. Se...</td>\n",
       "      <td>Our Excellence in Service Lapel Pins feature a...</td>\n",
       "      <td>12442</td>\n",
       "    </tr>\n",
       "    <tr>\n",
       "      <th>4</th>\n",
       "      <td>624253</td>\n",
       "      <td>Visual Mathematics, Illustrated by the TI-92 a...</td>\n",
       "      <td>NaN</td>\n",
       "      <td>NaN</td>\n",
       "      <td>6318</td>\n",
       "    </tr>\n",
       "  </tbody>\n",
       "</table>\n",
       "</div>"
      ],
      "text/plain": [
       "   PRODUCT_ID                                              TITLE  \\\n",
       "0      604373  Manuel d'Héliogravure Et de Photogravure En Re...   \n",
       "1     1729783  DCGARING Microfiber Throw Blanket Warm Fuzzy P...   \n",
       "2     1871949  I-Match Auto Parts Front License Plate Bracket...   \n",
       "3     1107571  PinMart Gold Plated Excellence in Service 1 Ye...   \n",
       "4      624253  Visual Mathematics, Illustrated by the TI-92 a...   \n",
       "\n",
       "                                       BULLET_POINTS  \\\n",
       "0                                                NaN   \n",
       "1  [QUALITY GUARANTEED: Luxury cozy plush polyest...   \n",
       "2  [Front License Plate Bracket Made Of Plastic,D...   \n",
       "3  [Available as a single item or bulk packed. Se...   \n",
       "4                                                NaN   \n",
       "\n",
       "                                         DESCRIPTION  PRODUCT_TYPE_ID  \n",
       "0                                                NaN             6142  \n",
       "1  <b>DCGARING Throw Blanket</b><br><br> <b>Size ...             1622  \n",
       "2  Replacement for The Following Vehicles:2020 LE...             7540  \n",
       "3  Our Excellence in Service Lapel Pins feature a...            12442  \n",
       "4                                                NaN             6318  "
      ]
     },
     "execution_count": 41,
     "metadata": {},
     "output_type": "execute_result"
    }
   ],
   "source": [
    "test_data.head()"
   ]
  },
  {
   "attachments": {},
   "cell_type": "markdown",
   "metadata": {},
   "source": [
    "# #PREPROCESSING THE DATA\n"
   ]
  },
  {
   "cell_type": "code",
   "execution_count": 42,
   "metadata": {},
   "outputs": [],
   "source": [
    "import klib\n",
    "# Clean the column names, drop missing values, and convert data types\n",
    "\n",
    "train_data['PRODUCT_TYPE_ID'].fillna(train_data['PRODUCT_TYPE_ID'].mode()[0], inplace=True)"
   ]
  },
  {
   "cell_type": "code",
   "execution_count": 43,
   "metadata": {},
   "outputs": [],
   "source": [
    "import klib\n",
    "# Clean the column names, drop missing values, and convert data types\n",
    "train_data= klib.clean_column_names(train_data)\n",
    "train_data= klib.drop_missing(train_data)\n",
    "train_data = klib.convert_datatypes(train_data)\n",
    "\n",
    "# Check for duplicates and remove them\n",
    "train_data = train_data.drop_duplicates()\n",
    "\n",
    "test_data = klib.clean_column_names(test_data)\n",
    "test_data = klib.drop_missing(test_data)\n",
    "test_data = klib.convert_datatypes(test_data)\n",
    "\n",
    "# Check for duplicates and remove them\n",
    "test_data = test_data.drop_duplicates()\n",
    "\n"
   ]
  },
  {
   "cell_type": "code",
   "execution_count": 44,
   "metadata": {},
   "outputs": [
    {
     "data": {
      "text/plain": [
       "product_id            0\n",
       "title                 0\n",
       "bullet_points      3700\n",
       "description        5176\n",
       "product_type_id       0\n",
       "product_length        0\n",
       "dtype: int64"
      ]
     },
     "execution_count": 44,
     "metadata": {},
     "output_type": "execute_result"
    }
   ],
   "source": [
    "train_data.isnull().sum()"
   ]
  },
  {
   "cell_type": "code",
   "execution_count": 45,
   "metadata": {},
   "outputs": [],
   "source": [
    "# Fill missing values with 'None'\n",
    "train_data.fillna(value='None', inplace=True)\n",
    "\n",
    "# Drop remaining NaN values\n",
    "train_data.dropna(inplace=True)\n"
   ]
  },
  {
   "cell_type": "code",
   "execution_count": 46,
   "metadata": {},
   "outputs": [],
   "source": [
    "\n",
    "test_data.fillna(value='None', inplace=True)\n",
    "\n",
    "# Drop remaining NaN values\n",
    "test_data.dropna(inplace=True)\n"
   ]
  },
  {
   "cell_type": "code",
   "execution_count": 47,
   "metadata": {},
   "outputs": [
    {
     "data": {
      "text/plain": [
       "product_id         0\n",
       "title              0\n",
       "bullet_points      0\n",
       "description        0\n",
       "product_type_id    0\n",
       "product_length     0\n",
       "dtype: int64"
      ]
     },
     "execution_count": 47,
     "metadata": {},
     "output_type": "execute_result"
    }
   ],
   "source": [
    "train_data.isnull().sum()"
   ]
  },
  {
   "cell_type": "code",
   "execution_count": 48,
   "metadata": {},
   "outputs": [
    {
     "name": "stdout",
     "output_type": "stream",
     "text": [
      "Train Data Shape: (10000, 6)\n",
      "Test Data Shape: (10000, 5)\n"
     ]
    }
   ],
   "source": [
    "# print shape of train and test data\n",
    "print('Train Data Shape:', train_data.shape)\n",
    "print('Test Data Shape:', test_data.shape)"
   ]
  },
  {
   "cell_type": "code",
   "execution_count": 49,
   "metadata": {},
   "outputs": [
    {
     "name": "stderr",
     "output_type": "stream",
     "text": [
      "[nltk_data] Downloading package stopwords to\n",
      "[nltk_data]     /home/codespace/nltk_data...\n",
      "[nltk_data]   Package stopwords is already up-to-date!\n",
      "[nltk_data] Downloading package punkt to /home/codespace/nltk_data...\n",
      "[nltk_data]   Package punkt is already up-to-date!\n",
      "[nltk_data] Downloading package wordnet to\n",
      "[nltk_data]     /home/codespace/nltk_data...\n",
      "[nltk_data]   Package wordnet is already up-to-date!\n"
     ]
    },
    {
     "data": {
      "text/plain": [
       "True"
      ]
     },
     "execution_count": 49,
     "metadata": {},
     "output_type": "execute_result"
    }
   ],
   "source": [
    "import nltk\n",
    "nltk.download('stopwords')\n",
    "nltk.download('punkt')\n",
    "nltk.download('wordnet')\n"
   ]
  },
  {
   "cell_type": "code",
   "execution_count": 50,
   "metadata": {},
   "outputs": [
    {
     "data": {
      "image/png": "[encoded data removed]",
      "text/plain": [
       "<Figure size 500x200 with 1 Axes>"
      ]
     },
     "metadata": {},
     "output_type": "display_data"
    }
   ],
   "source": [
    "import seaborn as sns\n",
    "\n",
    "sns.set(style=\"whitegrid\", rc={\"font.size\": 13, \"axes.labelsize\": 13})\n",
    "plt.figure(figsize=(5, 2))\n",
    "\n",
    "ax = sns.boxplot(x='product_type_id', data=train_data, orient=\"h\", palette=\"Set2\")\n",
    "plt.ylabel('')\n",
    "plt.xlabel('Product Type ID')\n",
    "plt.title(\"Distribution of Product Type ID\", fontsize=13)\n",
    "plt.tight_layout(h_pad=3)\n"
   ]
  },
  {
   "cell_type": "code",
   "execution_count": 51,
   "metadata": {},
   "outputs": [
    {
     "data": {
      "image/png": "[encoded data removed]",
      "text/plain": [
       "<Figure size 640x480 with 1 Axes>"
      ]
     },
     "metadata": {},
     "output_type": "display_data"
    },
    {
     "data": {
      "image/png": "[encoded data removed]",
      "text/plain": [
       "<Figure size 640x480 with 1 Axes>"
      ]
     },
     "metadata": {},
     "output_type": "display_data"
    }
   ],
   "source": [
    "# Histogram of product_type_id\n",
    "sns.histplot(data=train_data, x='product_type_id', bins=20)\n",
    "plt.show()\n",
    "\n",
    "# Histogram of product_length\n",
    "sns.histplot(data=train_data, x='product_length', bins=20)\n",
    "plt.show()\n"
   ]
  },
  {
   "cell_type": "code",
   "execution_count": 52,
   "metadata": {},
   "outputs": [
    {
     "name": "stdout",
     "output_type": "stream",
     "text": [
      "count    1.000000e+04\n",
      "mean     1.650626e+03\n",
      "std      4.047295e+04\n",
      "min      1.000000e+00\n",
      "25%      5.027500e+02\n",
      "50%      6.500000e+02\n",
      "75%      1.023622e+03\n",
      "max      3.996600e+06\n",
      "Name: product_length, dtype: float64\n"
     ]
    }
   ],
   "source": [
    "print(train_data['product_length'].describe())\n",
    "#there seems to be outliers in this column"
   ]
  },
  {
   "cell_type": "code",
   "execution_count": 53,
   "metadata": {},
   "outputs": [],
   "source": [
    "# Transform the product length column using the natural logarithm function\n",
    "train_data['product_length'] = np.log1p(train_data['product_length'])\n"
   ]
  },
  {
   "cell_type": "code",
   "execution_count": 55,
   "metadata": {},
   "outputs": [
    {
     "name": "stdout",
     "output_type": "stream",
     "text": [
      "Number of outliers removed: 1202\n"
     ]
    }
   ],
   "source": [
    "# Calculate the Q1 and Q3 quartiles\n",
    "Q1 = train_data['product_length'].quantile(0.25)\n",
    "Q3 = train_data['product_length'].quantile(0.75)\n",
    "\n",
    "# Calculate the interquartile range (IQR)\n",
    "IQR = Q3 - Q1\n",
    "\n",
    "# Calculate the upper and lower bounds for outliers\n",
    "upper_bound = Q3 + 1.5 * IQR\n",
    "lower_bound = Q1 - 1.5 * IQR\n",
    "\n",
    "# Count the number of outliers\n",
    "outliers = train_data[(train_data['product_length'] > upper_bound) | (train_data['product_length'] < lower_bound)]\n",
    "print(\"Number of outliers removed:\", len(outliers))\n"
   ]
  },
  {
   "attachments": {},
   "cell_type": "markdown",
   "metadata": {},
   "source": [
    "# TEXT PROCESSING \n",
    "## Concat Title , discription , bulletpoints into Text"
   ]
  },
  {
   "cell_type": "code",
   "execution_count": 56,
   "metadata": {},
   "outputs": [],
   "source": [
    "import re\n",
    "from nltk.corpus import stopwords\n",
    "from nltk.tokenize import word_tokenize\n",
    "from nltk.stem import WordNetLemmatizer\n",
    "\n",
    "# Load the stopwords and the Lemmatizer\n",
    "stop_words = set(stopwords.words('english'))\n",
    "lemmatizer = WordNetLemmatizer()\n",
    "\n",
    "# Define a function to preprocess the text\n",
    "def process_text(text):\n",
    "    # Remove punctuation and convert to lowercase\n",
    "    text = re.sub(r'[^\\w\\s]', '', text.lower())\n",
    "    \n",
    "    # Tokenize the text\n",
    "    tokens = word_tokenize(text)\n",
    "\n",
    "    # Remove stop words and lemmatize\n",
    "    tokens = [lemmatizer.lemmatize(token) for token in tokens if token not in stop_words]\n",
    "    \n",
    "    # Return the list of tokens\n",
    "    return tokens\n",
    "\n",
    "\n",
    "# Concatenate the 'TITLE', 'BULLET_POINTS', and 'DESCRIPTION' columns into a new 'text' column\n",
    "train_data['text'] = train_data[['title', 'bullet_points', 'description']].apply(lambda x: ' '.join(x), axis=1)\n",
    "\n",
    "# Apply the preprocess_text function to the 'text' column and replace the original text with the list of tokens\n",
    "train_data['text'] = train_data['text'].apply(process_text)\n",
    "\n",
    "# Concatenate the 'TITLE', 'BULLET_POINTS', and 'DESCRIPTION' columns into a new 'text' column\n",
    "test_data['text'] = test_data[['title', 'bullet_points', 'description']].apply(lambda x: ' '.join(x), axis=1)\n",
    "\n",
    "# Apply the preprocess_text function to the 'text' column and replace the original text with the list of tokens\n",
    "test_data['text'] = test_data['text'].apply(process_text)\n",
    "\n",
    "\n",
    "\n",
    "\n"
   ]
  },
  {
   "cell_type": "code",
   "execution_count": 57,
   "metadata": {},
   "outputs": [],
   "source": [
    "train_data.drop(['title', 'bullet_points', 'description'], axis=1, inplace=True)\n",
    "test_data.drop(['title', 'bullet_points', 'description'], axis=1, inplace=True)\n"
   ]
  },
  {
   "cell_type": "code",
   "execution_count": 59,
   "metadata": {},
   "outputs": [
    {
     "data": {
      "text/html": [
       "<div>\n",
       "<style scoped>\n",
       "    .dataframe tbody tr th:only-of-type {\n",
       "        vertical-align: middle;\n",
       "    }\n",
       "\n",
       "    .dataframe tbody tr th {\n",
       "        vertical-align: top;\n",
       "    }\n",
       "\n",
       "    .dataframe thead th {\n",
       "        text-align: right;\n",
       "    }\n",
       "</style>\n",
       "<table border=\"1\" class=\"dataframe\">\n",
       "  <thead>\n",
       "    <tr style=\"text-align: right;\">\n",
       "      <th></th>\n",
       "      <th>product_id</th>\n",
       "      <th>product_type_id</th>\n",
       "      <th>product_length</th>\n",
       "    </tr>\n",
       "  </thead>\n",
       "  <tbody>\n",
       "    <tr>\n",
       "      <th>count</th>\n",
       "      <td>1.000000e+04</td>\n",
       "      <td>10000.000000</td>\n",
       "      <td>10000.000000</td>\n",
       "    </tr>\n",
       "    <tr>\n",
       "      <th>mean</th>\n",
       "      <td>1.495725e+06</td>\n",
       "      <td>4024.644000</td>\n",
       "      <td>6.533531</td>\n",
       "    </tr>\n",
       "    <tr>\n",
       "      <th>std</th>\n",
       "      <td>8.584426e+05</td>\n",
       "      <td>3954.871315</td>\n",
       "      <td>0.990913</td>\n",
       "    </tr>\n",
       "    <tr>\n",
       "      <th>min</th>\n",
       "      <td>5.100000e+02</td>\n",
       "      <td>0.000000</td>\n",
       "      <td>0.693147</td>\n",
       "    </tr>\n",
       "    <tr>\n",
       "      <th>25%</th>\n",
       "      <td>7.639112e+05</td>\n",
       "      <td>284.750000</td>\n",
       "      <td>6.222080</td>\n",
       "    </tr>\n",
       "    <tr>\n",
       "      <th>50%</th>\n",
       "      <td>1.490764e+06</td>\n",
       "      <td>2917.000000</td>\n",
       "      <td>6.478510</td>\n",
       "    </tr>\n",
       "    <tr>\n",
       "      <th>75%</th>\n",
       "      <td>2.228138e+06</td>\n",
       "      <td>6519.000000</td>\n",
       "      <td>6.932079</td>\n",
       "    </tr>\n",
       "    <tr>\n",
       "      <th>max</th>\n",
       "      <td>2.999883e+06</td>\n",
       "      <td>13343.000000</td>\n",
       "      <td>15.200955</td>\n",
       "    </tr>\n",
       "  </tbody>\n",
       "</table>\n",
       "</div>"
      ],
      "text/plain": [
       "         product_id  product_type_id  product_length\n",
       "count  1.000000e+04     10000.000000    10000.000000\n",
       "mean   1.495725e+06      4024.644000        6.533531\n",
       "std    8.584426e+05      3954.871315        0.990913\n",
       "min    5.100000e+02         0.000000        0.693147\n",
       "25%    7.639112e+05       284.750000        6.222080\n",
       "50%    1.490764e+06      2917.000000        6.478510\n",
       "75%    2.228138e+06      6519.000000        6.932079\n",
       "max    2.999883e+06     13343.000000       15.200955"
      ]
     },
     "execution_count": 59,
     "metadata": {},
     "output_type": "execute_result"
    }
   ],
   "source": [
    "train_data.describe()"
   ]
  },
  {
   "cell_type": "code",
   "execution_count": 60,
   "metadata": {},
   "outputs": [
    {
     "name": "stdout",
     "output_type": "stream",
     "text": [
      "Requirement already satisfied: bs4 in /usr/local/python/3.10.4/lib/python3.10/site-packages (0.0.1)\n",
      "Requirement already satisfied: beautifulsoup4 in /home/codespace/.local/lib/python3.10/site-packages (from bs4) (4.12.2)\n",
      "Requirement already satisfied: soupsieve>1.2 in /home/codespace/.local/lib/python3.10/site-packages (from beautifulsoup4->bs4) (2.4.1)\n",
      "Note: you may need to restart the kernel to use updated packages.\n"
     ]
    }
   ],
   "source": [
    "pip install bs4"
   ]
  },
  {
   "cell_type": "code",
   "execution_count": 61,
   "metadata": {},
   "outputs": [],
   "source": [
    "import bs4\n",
    "import re\n",
    "from bs4 import BeautifulSoup\n",
    "\n",
    "def cleanhtml(raw_html):\n",
    "    if isinstance(raw_html, str):\n",
    "        cleanr = re.compile('<.*?>')\n",
    "        cleantext = BeautifulSoup(raw_html, \"html.parser\").text\n",
    "        cleantext = re.sub(cleanr, '', cleantext)\n",
    "        return cleantext\n",
    "    else:\n",
    "        return raw_html\n",
    "    \n",
    "def encode_decode(text):\n",
    "    # Encode the text into ASCII and ignore errors\n",
    "    encoded = text.encode('ascii', 'ignore').decode('utf-8')\n",
    "    \n",
    "    # Normalize the text to remove any non-standard characters\n",
    "    normalized = unicodedata.normalize('NFKD', encoded)\n",
    "    \n",
    "    # Return the normalized text\n",
    "    return normalized\n",
    "\n",
    "import re\n",
    "\n",
    "def regexx(text):\n",
    "    # Remove any special characters\n",
    "    text = re.sub(r'[^a-zA-Z0-9\\s]', '', text)\n",
    "    return text\n",
    "\n",
    "def apos(text):\n",
    "    text = text.replace(\"'\", \"\\\"\")\n",
    "    return text\n",
    "\n",
    "\n",
    "def split(text):\n",
    "    # Split the text into a list of words\n",
    "    words = text.split()\n",
    "    \n",
    "    # Join the words back together with a single space between each word\n",
    "    return ' '.join(words)"
   ]
  },
  {
   "cell_type": "code",
   "execution_count": 62,
   "metadata": {},
   "outputs": [],
   "source": [
    "import re\n",
    "import unicodedata\n",
    "from bs4 import BeautifulSoup\n",
    "from nltk.corpus import stopwords\n",
    "from nltk.tokenize import word_tokenize\n",
    "from nltk.stem import WordNetLemmatizer\n",
    "\n",
    "\n",
    "\n",
    "# Clean the HTML tags from the 'text' column\n",
    "train_data[\"text\"] = train_data[\"text\"].apply(cleanhtml)\n",
    "test_data[\"text\"] = test_data[\"text\"].apply(cleanhtml)\n",
    "\n",
    "train_data['text'] = train_data['text'].apply(lambda x: ' '.join(x))\n",
    "test_data['text'] = test_data['text'].apply(lambda x: ' '.join(x))\n",
    "\n",
    "# Encode and decode the 'text' column to remove any non-standard characters\n",
    "train_data[\"text\"] = train_data[\"text\"].apply(encode_decode)\n",
    "test_data[\"text\"] = test_data[\"text\"].apply(encode_decode)\n",
    "\n",
    "# Remove any remaining non-alphanumeric characters and extra whitespace\n",
    "train_data[\"text\"] = train_data[\"text\"].apply(regexx)\n",
    "test_data[\"text\"] = test_data[\"text\"].apply(regexx)\n",
    "\n",
    "# Replace apostrophes with their full words\n",
    "train_data[\"text\"] = train_data[\"text\"].apply(apos)\n",
    "test_data[\"text\"] = test_data[\"text\"].apply(apos)\n"
   ]
  },
  {
   "cell_type": "code",
   "execution_count": 63,
   "metadata": {},
   "outputs": [
    {
     "data": {
      "text/html": [
       "<div>\n",
       "<style scoped>\n",
       "    .dataframe tbody tr th:only-of-type {\n",
       "        vertical-align: middle;\n",
       "    }\n",
       "\n",
       "    .dataframe tbody tr th {\n",
       "        vertical-align: top;\n",
       "    }\n",
       "\n",
       "    .dataframe thead th {\n",
       "        text-align: right;\n",
       "    }\n",
       "</style>\n",
       "<table border=\"1\" class=\"dataframe\">\n",
       "  <thead>\n",
       "    <tr style=\"text-align: right;\">\n",
       "      <th></th>\n",
       "      <th>product_id</th>\n",
       "      <th>product_type_id</th>\n",
       "      <th>product_length</th>\n",
       "      <th>text</th>\n",
       "    </tr>\n",
       "  </thead>\n",
       "  <tbody>\n",
       "    <tr>\n",
       "      <th>0</th>\n",
       "      <td>1925202</td>\n",
       "      <td>1650</td>\n",
       "      <td>7.662458</td>\n",
       "      <td>artzfolio tulip flower blackout curtain door w...</td>\n",
       "    </tr>\n",
       "    <tr>\n",
       "      <th>1</th>\n",
       "      <td>2673191</td>\n",
       "      <td>2755</td>\n",
       "      <td>5.978126</td>\n",
       "      <td>mark spencer girl pyjama set t862561cnavy mix9...</td>\n",
       "    </tr>\n",
       "    <tr>\n",
       "      <th>2</th>\n",
       "      <td>2765088</td>\n",
       "      <td>7537</td>\n",
       "      <td>6.618781</td>\n",
       "      <td>priknik horn red electric air horn compressor ...</td>\n",
       "    </tr>\n",
       "    <tr>\n",
       "      <th>3</th>\n",
       "      <td>1594019</td>\n",
       "      <td>2996</td>\n",
       "      <td>6.670008</td>\n",
       "      <td>alishah woman cotton ankle length legging comb...</td>\n",
       "    </tr>\n",
       "    <tr>\n",
       "      <th>4</th>\n",
       "      <td>283658</td>\n",
       "      <td>6112</td>\n",
       "      <td>6.395969</td>\n",
       "      <td>united empire loyalist chronicle great migrati...</td>\n",
       "    </tr>\n",
       "    <tr>\n",
       "      <th>...</th>\n",
       "      <td>...</td>\n",
       "      <td>...</td>\n",
       "      <td>...</td>\n",
       "      <td>...</td>\n",
       "    </tr>\n",
       "    <tr>\n",
       "      <th>9995</th>\n",
       "      <td>305033</td>\n",
       "      <td>6054</td>\n",
       "      <td>6.421622</td>\n",
       "      <td>modern law partnership including full consider...</td>\n",
       "    </tr>\n",
       "    <tr>\n",
       "      <th>9996</th>\n",
       "      <td>2477776</td>\n",
       "      <td>3077</td>\n",
       "      <td>6.564788</td>\n",
       "      <td>diaz womensgirls super soft round neck full sl...</td>\n",
       "    </tr>\n",
       "    <tr>\n",
       "      <th>9997</th>\n",
       "      <td>2606423</td>\n",
       "      <td>8198</td>\n",
       "      <td>1.596758</td>\n",
       "      <td>sanavya universal gas geyser spare part househ...</td>\n",
       "    </tr>\n",
       "    <tr>\n",
       "      <th>9998</th>\n",
       "      <td>1598688</td>\n",
       "      <td>0</td>\n",
       "      <td>7.003974</td>\n",
       "      <td>june tailor jt1458 quilt asgo tablerunner veni...</td>\n",
       "    </tr>\n",
       "    <tr>\n",
       "      <th>9999</th>\n",
       "      <td>607035</td>\n",
       "      <td>15</td>\n",
       "      <td>6.421622</td>\n",
       "      <td>trait de pierre graves tome 1 none none</td>\n",
       "    </tr>\n",
       "  </tbody>\n",
       "</table>\n",
       "<p>10000 rows × 4 columns</p>\n",
       "</div>"
      ],
      "text/plain": [
       "      product_id  product_type_id  product_length  \\\n",
       "0        1925202             1650        7.662458   \n",
       "1        2673191             2755        5.978126   \n",
       "2        2765088             7537        6.618781   \n",
       "3        1594019             2996        6.670008   \n",
       "4         283658             6112        6.395969   \n",
       "...          ...              ...             ...   \n",
       "9995      305033             6054        6.421622   \n",
       "9996     2477776             3077        6.564788   \n",
       "9997     2606423             8198        1.596758   \n",
       "9998     1598688                0        7.003974   \n",
       "9999      607035               15        6.421622   \n",
       "\n",
       "                                                   text  \n",
       "0     artzfolio tulip flower blackout curtain door w...  \n",
       "1     mark spencer girl pyjama set t862561cnavy mix9...  \n",
       "2     priknik horn red electric air horn compressor ...  \n",
       "3     alishah woman cotton ankle length legging comb...  \n",
       "4     united empire loyalist chronicle great migrati...  \n",
       "...                                                 ...  \n",
       "9995  modern law partnership including full consider...  \n",
       "9996  diaz womensgirls super soft round neck full sl...  \n",
       "9997  sanavya universal gas geyser spare part househ...  \n",
       "9998  june tailor jt1458 quilt asgo tablerunner veni...  \n",
       "9999            trait de pierre graves tome 1 none none  \n",
       "\n",
       "[10000 rows x 4 columns]"
      ]
     },
     "execution_count": 63,
     "metadata": {},
     "output_type": "execute_result"
    }
   ],
   "source": [
    "train_data"
   ]
  },
  {
   "cell_type": "code",
   "execution_count": 64,
   "metadata": {},
   "outputs": [
    {
     "data": {
      "text/html": [
       "<div>\n",
       "<style scoped>\n",
       "    .dataframe tbody tr th:only-of-type {\n",
       "        vertical-align: middle;\n",
       "    }\n",
       "\n",
       "    .dataframe tbody tr th {\n",
       "        vertical-align: top;\n",
       "    }\n",
       "\n",
       "    .dataframe thead th {\n",
       "        text-align: right;\n",
       "    }\n",
       "</style>\n",
       "<table border=\"1\" class=\"dataframe\">\n",
       "  <thead>\n",
       "    <tr style=\"text-align: right;\">\n",
       "      <th></th>\n",
       "      <th>product_id</th>\n",
       "      <th>product_type_id</th>\n",
       "      <th>text</th>\n",
       "    </tr>\n",
       "  </thead>\n",
       "  <tbody>\n",
       "    <tr>\n",
       "      <th>0</th>\n",
       "      <td>604373</td>\n",
       "      <td>6142</td>\n",
       "      <td>manuel dhliogravure et de photogravure en reli...</td>\n",
       "    </tr>\n",
       "    <tr>\n",
       "      <th>1</th>\n",
       "      <td>1729783</td>\n",
       "      <td>1622</td>\n",
       "      <td>dcgaring microfiber throw blanket warm fuzzy p...</td>\n",
       "    </tr>\n",
       "    <tr>\n",
       "      <th>2</th>\n",
       "      <td>1871949</td>\n",
       "      <td>7540</td>\n",
       "      <td>imatch auto part front license plate bracket t...</td>\n",
       "    </tr>\n",
       "    <tr>\n",
       "      <th>3</th>\n",
       "      <td>1107571</td>\n",
       "      <td>12442</td>\n",
       "      <td>pinmart gold plated excellence service 1 year ...</td>\n",
       "    </tr>\n",
       "    <tr>\n",
       "      <th>4</th>\n",
       "      <td>624253</td>\n",
       "      <td>6318</td>\n",
       "      <td>visual mathematics illustrated ti92 ti89 none ...</td>\n",
       "    </tr>\n",
       "    <tr>\n",
       "      <th>...</th>\n",
       "      <td>...</td>\n",
       "      <td>...</td>\n",
       "      <td>...</td>\n",
       "    </tr>\n",
       "    <tr>\n",
       "      <th>9995</th>\n",
       "      <td>461169</td>\n",
       "      <td>146</td>\n",
       "      <td>trend optical material none none</td>\n",
       "    </tr>\n",
       "    <tr>\n",
       "      <th>9996</th>\n",
       "      <td>907904</td>\n",
       "      <td>3297</td>\n",
       "      <td>birkenstock unisex adult madrid open toe birko...</td>\n",
       "    </tr>\n",
       "    <tr>\n",
       "      <th>9997</th>\n",
       "      <td>160397</td>\n",
       "      <td>112</td>\n",
       "      <td>medieval future attitude future middle age non...</td>\n",
       "    </tr>\n",
       "    <tr>\n",
       "      <th>9998</th>\n",
       "      <td>624381</td>\n",
       "      <td>1</td>\n",
       "      <td>la france de faits diver 200 histoires insolit...</td>\n",
       "    </tr>\n",
       "    <tr>\n",
       "      <th>9999</th>\n",
       "      <td>2876454</td>\n",
       "      <td>1616</td>\n",
       "      <td>5 piece non slip bath tub sticker bathroom mat...</td>\n",
       "    </tr>\n",
       "  </tbody>\n",
       "</table>\n",
       "<p>10000 rows × 3 columns</p>\n",
       "</div>"
      ],
      "text/plain": [
       "      product_id  product_type_id  \\\n",
       "0         604373             6142   \n",
       "1        1729783             1622   \n",
       "2        1871949             7540   \n",
       "3        1107571            12442   \n",
       "4         624253             6318   \n",
       "...          ...              ...   \n",
       "9995      461169              146   \n",
       "9996      907904             3297   \n",
       "9997      160397              112   \n",
       "9998      624381                1   \n",
       "9999     2876454             1616   \n",
       "\n",
       "                                                   text  \n",
       "0     manuel dhliogravure et de photogravure en reli...  \n",
       "1     dcgaring microfiber throw blanket warm fuzzy p...  \n",
       "2     imatch auto part front license plate bracket t...  \n",
       "3     pinmart gold plated excellence service 1 year ...  \n",
       "4     visual mathematics illustrated ti92 ti89 none ...  \n",
       "...                                                 ...  \n",
       "9995                   trend optical material none none  \n",
       "9996  birkenstock unisex adult madrid open toe birko...  \n",
       "9997  medieval future attitude future middle age non...  \n",
       "9998  la france de faits diver 200 histoires insolit...  \n",
       "9999  5 piece non slip bath tub sticker bathroom mat...  \n",
       "\n",
       "[10000 rows x 3 columns]"
      ]
     },
     "execution_count": 64,
     "metadata": {},
     "output_type": "execute_result"
    }
   ],
   "source": [
    "test_data"
   ]
  },
  {
   "cell_type": "code",
   "execution_count": 65,
   "metadata": {},
   "outputs": [
    {
     "data": {
      "text/plain": [
       "count         10000\n",
       "unique         9995\n",
       "top       none none\n",
       "freq              3\n",
       "Name: text, dtype: object"
      ]
     },
     "execution_count": 65,
     "metadata": {},
     "output_type": "execute_result"
    }
   ],
   "source": [
    "train_data['text'].describe()\n"
   ]
  },
  {
   "cell_type": "code",
   "execution_count": 66,
   "metadata": {},
   "outputs": [
    {
     "data": {
      "text/plain": [
       "9995"
      ]
     },
     "execution_count": 66,
     "metadata": {},
     "output_type": "execute_result"
    }
   ],
   "source": [
    "train_data['text'].nunique()\n"
   ]
  },
  {
   "cell_type": "code",
   "execution_count": 67,
   "metadata": {},
   "outputs": [
    {
     "name": "stdout",
     "output_type": "stream",
     "text": [
      "Non-genuine duplicate rows for text 'ceremony none none':\n",
      "      product_id  product_type_id  product_length                text\n",
      "5480     1141711                7        6.311735  ceremony none none\n",
      "9220       72091              103        6.552508  ceremony none none\n",
      "Non-genuine duplicate rows for text 'dirty magic none none':\n",
      "      product_id  product_type_id  product_length                   text\n",
      "6986       60384               44        6.378426  dirty magic none none\n",
      "7572       60385               41        6.278521  dirty magic none none\n",
      "Non-genuine duplicate rows for text 'honey none none':\n",
      "      product_id  product_type_id  product_length             text\n",
      "902       522185               97        6.216606  honey none none\n",
      "1851      845789              837        6.354370  honey none none\n",
      "Non-genuine duplicate rows for text 'none none':\n",
      "      product_id  product_type_id  product_length       text\n",
      "4122      873162              829        6.265301  none none\n",
      "7984      178038               99        6.284940  none none\n",
      "8289      789331              797        6.329721  none none\n"
     ]
    }
   ],
   "source": [
    "# since there are unique values checking for duplicates and if these are genuine \n",
    "# Find the duplicate rows based on the 'text' column\n",
    "duplicates = train_data[train_data.duplicated(subset=['text'], keep=False)]\n",
    "\n",
    "# Group the duplicate rows by their 'text' values\n",
    "duplicates_grouped = duplicates.groupby('text')\n",
    "\n",
    "# Loop through the groups and print the rows that have different features\n",
    "for text, group in duplicates_grouped:\n",
    "    if len(group['product_id'].unique()) > 1 or len(group['product_type_id'].unique()) > 1 or len(group['product_length'].unique()) > 1:\n",
    "        print(f\"Non-genuine duplicate rows for text '{text}':\")\n",
    "        print(group)\n"
   ]
  },
  {
   "cell_type": "code",
   "execution_count": 68,
   "metadata": {},
   "outputs": [],
   "source": [
    "#dups are not genuine and can be dropped \n",
    "train_data.drop_duplicates(subset=['text'], keep='first', inplace=True)\n"
   ]
  },
  {
   "cell_type": "code",
   "execution_count": 70,
   "metadata": {},
   "outputs": [
    {
     "data": {
      "text/plain": [
       "count                                                  9995\n",
       "unique                                                 9995\n",
       "top       artzfolio tulip flower blackout curtain door w...\n",
       "freq                                                      1\n",
       "Name: text, dtype: object"
      ]
     },
     "execution_count": 70,
     "metadata": {},
     "output_type": "execute_result"
    }
   ],
   "source": [
    "train_data['text'].describe()\n"
   ]
  },
  {
   "cell_type": "code",
   "execution_count": 71,
   "metadata": {},
   "outputs": [
    {
     "data": {
      "text/plain": [
       "count                       10000\n",
       "unique                       9993\n",
       "top       unknown title none none\n",
       "freq                            3\n",
       "Name: text, dtype: object"
      ]
     },
     "execution_count": 71,
     "metadata": {},
     "output_type": "execute_result"
    }
   ],
   "source": [
    "test_data['text'].describe()\n"
   ]
  },
  {
   "cell_type": "code",
   "execution_count": 73,
   "metadata": {},
   "outputs": [
    {
     "data": {
      "text/html": [
       "<div>\n",
       "<style scoped>\n",
       "    .dataframe tbody tr th:only-of-type {\n",
       "        vertical-align: middle;\n",
       "    }\n",
       "\n",
       "    .dataframe tbody tr th {\n",
       "        vertical-align: top;\n",
       "    }\n",
       "\n",
       "    .dataframe thead th {\n",
       "        text-align: right;\n",
       "    }\n",
       "</style>\n",
       "<table border=\"1\" class=\"dataframe\">\n",
       "  <thead>\n",
       "    <tr style=\"text-align: right;\">\n",
       "      <th></th>\n",
       "      <th>product_id</th>\n",
       "      <th>product_type_id</th>\n",
       "      <th>text</th>\n",
       "    </tr>\n",
       "  </thead>\n",
       "  <tbody>\n",
       "    <tr>\n",
       "      <th>6714</th>\n",
       "      <td>2301751</td>\n",
       "      <td>12064</td>\n",
       "      <td>casotec back cover samsung galaxy m42 5g plast...</td>\n",
       "    </tr>\n",
       "    <tr>\n",
       "      <th>9532</th>\n",
       "      <td>2301736</td>\n",
       "      <td>12556</td>\n",
       "      <td>casotec back cover samsung galaxy m42 5g plast...</td>\n",
       "    </tr>\n",
       "    <tr>\n",
       "      <th>227</th>\n",
       "      <td>2808150</td>\n",
       "      <td>10319</td>\n",
       "      <td>gloy 3 seater sofa cover cotton polyester feat...</td>\n",
       "    </tr>\n",
       "    <tr>\n",
       "      <th>7892</th>\n",
       "      <td>2805907</td>\n",
       "      <td>10319</td>\n",
       "      <td>gloy 3 seater sofa cover cotton polyester feat...</td>\n",
       "    </tr>\n",
       "    <tr>\n",
       "      <th>1274</th>\n",
       "      <td>415451</td>\n",
       "      <td>114</td>\n",
       "      <td>none none</td>\n",
       "    </tr>\n",
       "    <tr>\n",
       "      <th>8130</th>\n",
       "      <td>811580</td>\n",
       "      <td>811</td>\n",
       "      <td>none none</td>\n",
       "    </tr>\n",
       "    <tr>\n",
       "      <th>9201</th>\n",
       "      <td>886366</td>\n",
       "      <td>804</td>\n",
       "      <td>none none</td>\n",
       "    </tr>\n",
       "    <tr>\n",
       "      <th>3861</th>\n",
       "      <td>416001</td>\n",
       "      <td>100</td>\n",
       "      <td>unknown title none none</td>\n",
       "    </tr>\n",
       "    <tr>\n",
       "      <th>4086</th>\n",
       "      <td>717143</td>\n",
       "      <td>0</td>\n",
       "      <td>unknown title none none</td>\n",
       "    </tr>\n",
       "    <tr>\n",
       "      <th>7095</th>\n",
       "      <td>505645</td>\n",
       "      <td>86</td>\n",
       "      <td>unknown title none none</td>\n",
       "    </tr>\n",
       "    <tr>\n",
       "      <th>330</th>\n",
       "      <td>410453</td>\n",
       "      <td>108</td>\n",
       "      <td>vision none none</td>\n",
       "    </tr>\n",
       "    <tr>\n",
       "      <th>8659</th>\n",
       "      <td>534261</td>\n",
       "      <td>103</td>\n",
       "      <td>vision none none</td>\n",
       "    </tr>\n",
       "  </tbody>\n",
       "</table>\n",
       "</div>"
      ],
      "text/plain": [
       "      product_id  product_type_id  \\\n",
       "6714     2301751            12064   \n",
       "9532     2301736            12556   \n",
       "227      2808150            10319   \n",
       "7892     2805907            10319   \n",
       "1274      415451              114   \n",
       "8130      811580              811   \n",
       "9201      886366              804   \n",
       "3861      416001              100   \n",
       "4086      717143                0   \n",
       "7095      505645               86   \n",
       "330       410453              108   \n",
       "8659      534261              103   \n",
       "\n",
       "                                                   text  \n",
       "6714  casotec back cover samsung galaxy m42 5g plast...  \n",
       "9532  casotec back cover samsung galaxy m42 5g plast...  \n",
       "227   gloy 3 seater sofa cover cotton polyester feat...  \n",
       "7892  gloy 3 seater sofa cover cotton polyester feat...  \n",
       "1274                                          none none  \n",
       "8130                                          none none  \n",
       "9201                                          none none  \n",
       "3861                            unknown title none none  \n",
       "4086                            unknown title none none  \n",
       "7095                            unknown title none none  \n",
       "330                                    vision none none  \n",
       "8659                                   vision none none  "
      ]
     },
     "execution_count": 73,
     "metadata": {},
     "output_type": "execute_result"
    }
   ],
   "source": [
    "test_data[test_data.duplicated(['text'], keep=False)].sort_values(by=['text'])\n",
    "#it has duplicate value \n"
   ]
  },
  {
   "cell_type": "code",
   "execution_count": 75,
   "metadata": {},
   "outputs": [],
   "source": [
    "test_data.drop_duplicates(subset=['text'], keep='first', inplace=True)\n"
   ]
  },
  {
   "cell_type": "code",
   "execution_count": 76,
   "metadata": {},
   "outputs": [
    {
     "data": {
      "text/plain": [
       "count                                                  9995\n",
       "unique                                                 9995\n",
       "top       artzfolio tulip flower blackout curtain door w...\n",
       "freq                                                      1\n",
       "Name: text, dtype: object"
      ]
     },
     "execution_count": 76,
     "metadata": {},
     "output_type": "execute_result"
    }
   ],
   "source": [
    "train_data['text'].describe()\n"
   ]
  },
  {
   "cell_type": "markdown",
   "metadata": {},
   "source": []
  },
  {
   "attachments": {},
   "cell_type": "markdown",
   "metadata": {},
   "source": [
    "## # Perform one-hot encoding on product_type_id column\n"
   ]
  },
  {
   "cell_type": "code",
   "execution_count": 77,
   "metadata": {},
   "outputs": [],
   "source": [
    "# Perform one-hot encoding on product_type_id column\n",
    "from sklearn.preprocessing import LabelEncoder\n",
    "\n",
    "# Initialize label encoder\n",
    "le = LabelEncoder()\n",
    "\n",
    "# Fit label encoder and transform the product_type_id column\n",
    "train_data['product_type_id'] = le.fit_transform(train_data['product_type_id'])\n",
    "test_data['product_type_id'] = le.fit_transform(test_data['product_type_id'])\n"
   ]
  },
  {
   "cell_type": "code",
   "execution_count": 78,
   "metadata": {},
   "outputs": [
    {
     "name": "stdout",
     "output_type": "stream",
     "text": [
      "<class 'pandas.core.series.Series'>\n",
      "Int64Index: 9995 entries, 0 to 9999\n",
      "Series name: product_type_id\n",
      "Non-Null Count  Dtype\n",
      "--------------  -----\n",
      "9995 non-null   int64\n",
      "dtypes: int64(1)\n",
      "memory usage: 156.2 KB\n",
      "None\n",
      "count    9995.000000\n",
      "mean      916.265433\n",
      "std       719.129018\n",
      "min         0.000000\n",
      "25%       173.000000\n",
      "50%       869.000000\n",
      "75%      1500.000000\n",
      "max      2318.000000\n",
      "Name: product_type_id, dtype: float64\n",
      "[ 578  798 1647 ... 1470  659 1760]\n",
      "<class 'pandas.core.series.Series'>\n",
      "Int64Index: 9993 entries, 0 to 9999\n",
      "Series name: product_type_id\n",
      "Non-Null Count  Dtype\n",
      "--------------  -----\n",
      "9993 non-null   int64\n",
      "dtypes: int64(1)\n",
      "memory usage: 156.1 KB\n",
      "None\n",
      "count    9993.000000\n",
      "mean      885.443410\n",
      "std       694.130851\n",
      "min         0.000000\n",
      "25%       147.000000\n",
      "50%       866.000000\n",
      "75%      1410.000000\n",
      "max      2248.000000\n",
      "Name: product_type_id, dtype: float64\n",
      "[1345  557 1612 ... 1291 1068 2241]\n"
     ]
    }
   ],
   "source": [
    "print(train_data['product_type_id'].info())\n",
    "print(train_data['product_type_id'].describe())\n",
    "print(train_data['product_type_id'].unique())\n",
    "\n",
    "print(test_data['product_type_id'].info())\n",
    "print(test_data['product_type_id'].describe())\n",
    "print(test_data['product_type_id'].unique())\n"
   ]
  },
  {
   "cell_type": "code",
   "execution_count": 79,
   "metadata": {},
   "outputs": [],
   "source": [
    "train_data.to_csv(\"preprocessed.csv\",index=False)\n"
   ]
  },
  {
   "cell_type": "code",
   "execution_count": 80,
   "metadata": {},
   "outputs": [],
   "source": [
    "test_data.to_csv(\"preprocessed.csv\",index=False)\n"
   ]
  }
 ],
 "metadata": {
  "kernelspec": {
   "display_name": "Python 3",
   "language": "python",
   "name": "python3"
  },
  "language_info": {
   "codemirror_mode": {
    "name": "ipython",
    "version": 3
   },
   "file_extension": ".py",
   "mimetype": "text/x-python",
   "name": "python",
   "nbconvert_exporter": "python",
   "pygments_lexer": "ipython3",
   "version": "3.10.4"
  },
  "orig_nbformat": 4
 },
 "nbformat": 4,
 "nbformat_minor": 2
}
